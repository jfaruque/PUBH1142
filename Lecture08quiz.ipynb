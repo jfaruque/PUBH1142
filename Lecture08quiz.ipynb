{
 "cells": [
  {
   "cell_type": "markdown",
   "metadata": {},
   "source": [
    "1. How do you import the pandas library in Python?\n",
    "\n",
    "2. How do you read a CSV file named `data.csv` into a pandas DataFrame?\n",
    "\n",
    "3. How do you display the first $5$ rows of a DataFrame named `df`?\n",
    "\n",
    "4. How do you find the number of rows and columns in a DataFrame `df`?\n",
    "\n",
    "5. How do you print the names of all the columns in a DataFrame `df`?\n",
    "\n",
    "6. How do you get the summary information of the DataFrame `df` including data types and non-null values?\n",
    "\n",
    "7. How do you select only the rows in DataFrame `df` where the column `A` is greater than $5$?\n",
    "\n",
    "8. How do you select the columns `A` and `B` from the DataFrame `df`?\n",
    "\n",
    "9. How do you rename the column `A` to `Alpha` in DataFrame `df`?\n",
    "\n",
    "10. How do you replace all occurrences of the value $999$ in DataFrame `df` with `nan`?\n",
    "\n",
    "11. How do you drop all rows in DataFrame `df` that contain missing values?\n",
    "\n",
    "12. How do you fill all missing values in DataFrame `df` with $0$?\n",
    "\n",
    "13. How do you calculate the mean of column `A` in DataFrame `df`?\n",
    "\n",
    "14. How do you create a new column `C` in DataFrame `df` that is the sum of columns `A` and `B`?\n",
    "\n",
    "15. How do you save the DataFrame `df` to a CSV file named `output.csv`? (Find the solution by searching the pandas documentation.)"
   ]
  },
  {
   "cell_type": "code",
   "execution_count": 1,
   "metadata": {},
   "outputs": [],
   "source": [
    "# Question 1\n",
    "import pandas as pd"
   ]
  },
  {
   "cell_type": "code",
   "execution_count": 5,
   "metadata": {},
   "outputs": [],
   "source": [
    "# Question 2\n",
    "df = pd.read_csv('data.csv')"
   ]
  },
  {
   "cell_type": "code",
   "execution_count": 6,
   "metadata": {},
   "outputs": [],
   "source": [
    "# Question 3\n",
    "df.head()"
   ]
  },
  {
   "cell_type": "code",
   "execution_count": null,
   "metadata": {},
   "outputs": [],
   "source": [
    "# Question 4\n",
    "df.shape"
   ]
  },
  {
   "cell_type": "code",
   "execution_count": null,
   "metadata": {},
   "outputs": [],
   "source": [
    "# Question 5\n",
    "df.columns"
   ]
  },
  {
   "cell_type": "code",
   "execution_count": null,
   "metadata": {},
   "outputs": [],
   "source": [
    "# Question 6\n",
    "df.info() #or\n",
    "df.dtypes"
   ]
  },
  {
   "cell_type": "code",
   "execution_count": null,
   "metadata": {},
   "outputs": [],
   "source": [
    "# Question 7 \n",
    "crit = df.A > 5\n",
    "greater_than_five = df.loc[crit, 'A']"
   ]
  },
  {
   "cell_type": "code",
   "execution_count": null,
   "metadata": {},
   "outputs": [],
   "source": [
    "# Question 8 \n",
    "df[['A', 'B']]"
   ]
  },
  {
   "cell_type": "code",
   "execution_count": null,
   "metadata": {},
   "outputs": [],
   "source": [
    "# Question 9\n",
    "df.rename(columns={'A': 'Alpha'}, inplace=True)\n",
    "\n",
    "# the inpace=True argument makes the renaming permanent"
   ]
  },
  {
   "cell_type": "code",
   "execution_count": null,
   "metadata": {},
   "outputs": [],
   "source": [
    "# Question 10\n",
    "df.replace({'999' : 'nan'}, inplace=True)"
   ]
  },
  {
   "cell_type": "code",
   "execution_count": null,
   "metadata": {},
   "outputs": [],
   "source": [
    "# Question 11\n",
    "df.dropna(inplace=True)"
   ]
  },
  {
   "cell_type": "code",
   "execution_count": null,
   "metadata": {},
   "outputs": [],
   "source": [
    "# Question 12\n",
    "#How do you fill all missing values in DataFrame `df` with $0$?\n",
    "df.fillna(0, inplace=True)"
   ]
  },
  {
   "cell_type": "code",
   "execution_count": null,
   "metadata": {},
   "outputs": [],
   "source": [
    "# Question 13\n",
    "mean_A = df.A.mean();"
   ]
  },
  {
   "cell_type": "code",
   "execution_count": null,
   "metadata": {},
   "outputs": [],
   "source": [
    "# Question 14\n",
    "df['C'] = df['A'] + df['B']"
   ]
  },
  {
   "cell_type": "code",
   "execution_count": null,
   "metadata": {},
   "outputs": [],
   "source": [
    "# Question 15\n",
    "# (Find the solution by searching the pandas documentation.)\n",
    "df.to_csv('output.csv', index=True)"
   ]
  }
 ],
 "metadata": {
  "kernelspec": {
   "display_name": "datascience",
   "language": "python",
   "name": "python3"
  },
  "language_info": {
   "codemirror_mode": {
    "name": "ipython",
    "version": 3
   },
   "file_extension": ".py",
   "mimetype": "text/x-python",
   "name": "python",
   "nbconvert_exporter": "python",
   "pygments_lexer": "ipython3",
   "version": "3.12.1"
  }
 },
 "nbformat": 4,
 "nbformat_minor": 2
}
