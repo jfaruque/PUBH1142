{
 "cells": [
  {
   "cell_type": "markdown",
   "metadata": {},
   "source": [
    "# Introduction\n",
    "* The dataset imported below was gathered from the CDC's open source data sets. The dataset is compiled for the 500 Cities project, and has data from 2016-2017. According to the website this data set has: \" model-based small area estimates for 27 measures of chronic disease related to unhealthy behaviors (5), health outcomes (13), and use of preventive services (9). Data were provided by the Centers for Disease Control and Prevention (CDC), Division of Population Health, Epidemiology and Surveillance Branch. The project was funded by the Robert Wood Johnson Foundation (RWJF) in conjunction with the CDC Foundation. It represents a first-of-its kind effort to release information on a large scale for cities and for small areas within those cities. It includes estimates for the 500 largest US cities and approximately 28,000 census tracts within these cities. These estimates can be used to identify emerging health problems and to inform development and implementation of effective, targeted public health prevention activities. Because the small area model cannot detect effects due to local interventions, users are cautioned against using these estimates for program or policy evaluations. Data sources used to generate these measures include Behavioral Risk Factor Surveillance System (BRFSS) data (2017, 2016), Census Bureau 2010 census population data, and American Community Survey (ACS) 2013-2017, 2012-2016 estimates. Because some questions are only asked every other year in the BRFSS, there are 7 measures (all teeth lost, dental visits, mammograms, pap tests, colorectal cancer screening, core preventive services among older adults, and sleep less than 7 hours) from the 2016 BRFSS that are the same in the 2019 release as the previous 2018 release\".\n",
    "* I've narrowed the data down to 2 cities (Alexandria, VA & Washington, D.C.) for the sake of this project. The file would have been too big otherwise. \n",
    "* Dataset Link: \n",
    "    * https://data.cdc.gov/500-Cities-Places/500-Cities-Local-Data-for-Better-Health-2019-relea/6vp6-wxuq/about_data"
   ]
  },
  {
   "cell_type": "code",
   "execution_count": 408,
   "metadata": {},
   "outputs": [],
   "source": [
    "# importing files and libraries \n",
    "import pandas as pd\n",
    "import numpy as np # pd and np allow for access to functions that allow for more numerical analysis \n",
    "from matplotlib import pyplot  # for data visualization\n",
    "import seaborn  # for data visualization\n",
    "\n",
    "# import csv file (comma separated value file) \n",
    "df = pd.read_csv('https://raw.githubusercontent.com/jfaruque/PUBH1142/main/DC_Alexandria_Chronic_Illness_Data.csv')"
   ]
  },
  {
   "cell_type": "code",
   "execution_count": 409,
   "metadata": {},
   "outputs": [
    {
     "data": {
      "text/html": [
       "<div>\n",
       "<style scoped>\n",
       "    .dataframe tbody tr th:only-of-type {\n",
       "        vertical-align: middle;\n",
       "    }\n",
       "\n",
       "    .dataframe tbody tr th {\n",
       "        vertical-align: top;\n",
       "    }\n",
       "\n",
       "    .dataframe thead th {\n",
       "        text-align: right;\n",
       "    }\n",
       "</style>\n",
       "<table border=\"1\" class=\"dataframe\">\n",
       "  <thead>\n",
       "    <tr style=\"text-align: right;\">\n",
       "      <th></th>\n",
       "      <th>Year</th>\n",
       "      <th>StateAbbr</th>\n",
       "      <th>StateDesc</th>\n",
       "      <th>CityName</th>\n",
       "      <th>GeographicLevel</th>\n",
       "      <th>DataSource</th>\n",
       "      <th>Category</th>\n",
       "      <th>UniqueID</th>\n",
       "      <th>Measure</th>\n",
       "      <th>Data_Value_Unit</th>\n",
       "      <th>...</th>\n",
       "      <th>High_Confidence_Limit</th>\n",
       "      <th>Data_Value_Footnote_Symbol</th>\n",
       "      <th>Data_Value_Footnote</th>\n",
       "      <th>PopulationCount</th>\n",
       "      <th>GeoLocation</th>\n",
       "      <th>CategoryID</th>\n",
       "      <th>MeasureId</th>\n",
       "      <th>CityFIPS</th>\n",
       "      <th>TractFIPS</th>\n",
       "      <th>Short_Question_Text</th>\n",
       "    </tr>\n",
       "  </thead>\n",
       "  <tbody>\n",
       "    <tr>\n",
       "      <th>0</th>\n",
       "      <td>2017</td>\n",
       "      <td>VA</td>\n",
       "      <td>Virginia</td>\n",
       "      <td>Alexandria</td>\n",
       "      <td>Census Tract</td>\n",
       "      <td>BRFSS</td>\n",
       "      <td>Prevention</td>\n",
       "      <td>5101000-51510200702</td>\n",
       "      <td>Taking medicine for high blood pressure contro...</td>\n",
       "      <td>%</td>\n",
       "      <td>...</td>\n",
       "      <td>65.9</td>\n",
       "      <td>NaN</td>\n",
       "      <td>NaN</td>\n",
       "      <td>3910</td>\n",
       "      <td>(38.8012387817, -77.0668298261)</td>\n",
       "      <td>PREVENT</td>\n",
       "      <td>BPMED</td>\n",
       "      <td>5101000</td>\n",
       "      <td>5.151020e+10</td>\n",
       "      <td>Taking BP Medication</td>\n",
       "    </tr>\n",
       "    <tr>\n",
       "      <th>1</th>\n",
       "      <td>2017</td>\n",
       "      <td>VA</td>\n",
       "      <td>Virginia</td>\n",
       "      <td>Alexandria</td>\n",
       "      <td>City</td>\n",
       "      <td>BRFSS</td>\n",
       "      <td>Health Outcomes</td>\n",
       "      <td>5101000</td>\n",
       "      <td>Current asthma among adults aged &gt;=18 Years</td>\n",
       "      <td>%</td>\n",
       "      <td>...</td>\n",
       "      <td>8.9</td>\n",
       "      <td>NaN</td>\n",
       "      <td>NaN</td>\n",
       "      <td>139966</td>\n",
       "      <td>(38.8187351557, -77.0867762661)</td>\n",
       "      <td>HLTHOUT</td>\n",
       "      <td>CASTHMA</td>\n",
       "      <td>5101000</td>\n",
       "      <td>NaN</td>\n",
       "      <td>Current Asthma</td>\n",
       "    </tr>\n",
       "    <tr>\n",
       "      <th>2</th>\n",
       "      <td>2017</td>\n",
       "      <td>VA</td>\n",
       "      <td>Virginia</td>\n",
       "      <td>Alexandria</td>\n",
       "      <td>Census Tract</td>\n",
       "      <td>BRFSS</td>\n",
       "      <td>Health Outcomes</td>\n",
       "      <td>5101000-51510201300</td>\n",
       "      <td>Diagnosed diabetes among adults aged &gt;=18 Years</td>\n",
       "      <td>%</td>\n",
       "      <td>...</td>\n",
       "      <td>6.2</td>\n",
       "      <td>NaN</td>\n",
       "      <td>NaN</td>\n",
       "      <td>3105</td>\n",
       "      <td>(38.8235664971, -77.0544032467)</td>\n",
       "      <td>HLTHOUT</td>\n",
       "      <td>DIABETES</td>\n",
       "      <td>5101000</td>\n",
       "      <td>5.151020e+10</td>\n",
       "      <td>Diabetes</td>\n",
       "    </tr>\n",
       "    <tr>\n",
       "      <th>3</th>\n",
       "      <td>2016</td>\n",
       "      <td>VA</td>\n",
       "      <td>Virginia</td>\n",
       "      <td>Alexandria</td>\n",
       "      <td>City</td>\n",
       "      <td>BRFSS</td>\n",
       "      <td>Prevention</td>\n",
       "      <td>5101000</td>\n",
       "      <td>Papanicolaou smear use among adult women aged ...</td>\n",
       "      <td>%</td>\n",
       "      <td>...</td>\n",
       "      <td>87.0</td>\n",
       "      <td>NaN</td>\n",
       "      <td>NaN</td>\n",
       "      <td>139966</td>\n",
       "      <td>(38.8187351557, -77.0867762661)</td>\n",
       "      <td>PREVENT</td>\n",
       "      <td>PAPTEST</td>\n",
       "      <td>5101000</td>\n",
       "      <td>NaN</td>\n",
       "      <td>Pap Smear Test</td>\n",
       "    </tr>\n",
       "    <tr>\n",
       "      <th>4</th>\n",
       "      <td>2016</td>\n",
       "      <td>VA</td>\n",
       "      <td>Virginia</td>\n",
       "      <td>Alexandria</td>\n",
       "      <td>Census Tract</td>\n",
       "      <td>BRFSS</td>\n",
       "      <td>Unhealthy Behaviors</td>\n",
       "      <td>5101000-51510200801</td>\n",
       "      <td>Sleeping less than 7 hours among adults aged &gt;...</td>\n",
       "      <td>%</td>\n",
       "      <td>...</td>\n",
       "      <td>28.8</td>\n",
       "      <td>NaN</td>\n",
       "      <td>NaN</td>\n",
       "      <td>2553</td>\n",
       "      <td>(38.8165993378, -77.0808788508)</td>\n",
       "      <td>UNHBEH</td>\n",
       "      <td>SLEEP</td>\n",
       "      <td>5101000</td>\n",
       "      <td>5.151020e+10</td>\n",
       "      <td>Sleep &lt;7 hours</td>\n",
       "    </tr>\n",
       "  </tbody>\n",
       "</table>\n",
       "<p>5 rows × 24 columns</p>\n",
       "</div>"
      ],
      "text/plain": [
       "   Year StateAbbr StateDesc    CityName GeographicLevel DataSource  \\\n",
       "0  2017        VA  Virginia  Alexandria    Census Tract      BRFSS   \n",
       "1  2017        VA  Virginia  Alexandria            City      BRFSS   \n",
       "2  2017        VA  Virginia  Alexandria    Census Tract      BRFSS   \n",
       "3  2016        VA  Virginia  Alexandria            City      BRFSS   \n",
       "4  2016        VA  Virginia  Alexandria    Census Tract      BRFSS   \n",
       "\n",
       "              Category             UniqueID  \\\n",
       "0           Prevention  5101000-51510200702   \n",
       "1      Health Outcomes              5101000   \n",
       "2      Health Outcomes  5101000-51510201300   \n",
       "3           Prevention              5101000   \n",
       "4  Unhealthy Behaviors  5101000-51510200801   \n",
       "\n",
       "                                             Measure Data_Value_Unit  ...  \\\n",
       "0  Taking medicine for high blood pressure contro...               %  ...   \n",
       "1        Current asthma among adults aged >=18 Years               %  ...   \n",
       "2    Diagnosed diabetes among adults aged >=18 Years               %  ...   \n",
       "3  Papanicolaou smear use among adult women aged ...               %  ...   \n",
       "4  Sleeping less than 7 hours among adults aged >...               %  ...   \n",
       "\n",
       "  High_Confidence_Limit Data_Value_Footnote_Symbol  Data_Value_Footnote  \\\n",
       "0                  65.9                        NaN                  NaN   \n",
       "1                   8.9                        NaN                  NaN   \n",
       "2                   6.2                        NaN                  NaN   \n",
       "3                  87.0                        NaN                  NaN   \n",
       "4                  28.8                        NaN                  NaN   \n",
       "\n",
       "   PopulationCount                      GeoLocation CategoryID MeasureId  \\\n",
       "0             3910  (38.8012387817, -77.0668298261)    PREVENT     BPMED   \n",
       "1           139966  (38.8187351557, -77.0867762661)    HLTHOUT   CASTHMA   \n",
       "2             3105  (38.8235664971, -77.0544032467)    HLTHOUT  DIABETES   \n",
       "3           139966  (38.8187351557, -77.0867762661)    PREVENT   PAPTEST   \n",
       "4             2553  (38.8165993378, -77.0808788508)     UNHBEH     SLEEP   \n",
       "\n",
       "   CityFIPS     TractFIPS   Short_Question_Text  \n",
       "0   5101000  5.151020e+10  Taking BP Medication  \n",
       "1   5101000           NaN        Current Asthma  \n",
       "2   5101000  5.151020e+10              Diabetes  \n",
       "3   5101000           NaN        Pap Smear Test  \n",
       "4   5101000  5.151020e+10        Sleep <7 hours  \n",
       "\n",
       "[5 rows x 24 columns]"
      ]
     },
     "execution_count": 409,
     "metadata": {},
     "output_type": "execute_result"
    }
   ],
   "source": [
    "# sanity check: display first five rows of df\n",
    "# delete sanity checks in portfolio later  \n",
    "df.head()"
   ]
  },
  {
   "cell_type": "markdown",
   "metadata": {},
   "source": [
    "## Data Wrangling & Analysis"
   ]
  },
  {
   "cell_type": "code",
   "execution_count": 410,
   "metadata": {},
   "outputs": [
    {
     "data": {
      "text/plain": [
       "(6185, 24)"
      ]
     },
     "execution_count": 410,
     "metadata": {},
     "output_type": "execute_result"
    }
   ],
   "source": [
    "# use the shape attribute to get the number of rows and columns in the dataframe\n",
    "df.shape"
   ]
  },
  {
   "cell_type": "markdown",
   "metadata": {},
   "source": [
    "Clearly, with these dimesions the sheer volume of data can seem overwhelming. Using the info() method can help dissect all that data for you. The summary output lists the number of columns, their respective labels, along with non-null count and type. Note that becuase there are 6,185 rows overall, non-null counts below this value indicate discrepencies in the data."
   ]
  },
  {
   "cell_type": "code",
   "execution_count": 411,
   "metadata": {},
   "outputs": [
    {
     "name": "stdout",
     "output_type": "stream",
     "text": [
      "<class 'pandas.core.frame.DataFrame'>\n",
      "RangeIndex: 6185 entries, 0 to 6184\n",
      "Data columns (total 24 columns):\n",
      " #   Column                      Non-Null Count  Dtype  \n",
      "---  ------                      --------------  -----  \n",
      " 0   Year                        6185 non-null   int64  \n",
      " 1   StateAbbr                   6185 non-null   object \n",
      " 2   StateDesc                   6185 non-null   object \n",
      " 3   CityName                    6185 non-null   object \n",
      " 4   GeographicLevel             6185 non-null   object \n",
      " 5   DataSource                  6185 non-null   object \n",
      " 6   Category                    6185 non-null   object \n",
      " 7   UniqueID                    6185 non-null   object \n",
      " 8   Measure                     6185 non-null   object \n",
      " 9   Data_Value_Unit             6185 non-null   object \n",
      " 10  DataValueTypeID             6185 non-null   object \n",
      " 11  Data_Value_Type             6185 non-null   object \n",
      " 12  Data_Value                  6160 non-null   float64\n",
      " 13  Low_Confidence_Limit        6160 non-null   float64\n",
      " 14  High_Confidence_Limit       6160 non-null   float64\n",
      " 15  Data_Value_Footnote_Symbol  25 non-null     object \n",
      " 16  Data_Value_Footnote         25 non-null     object \n",
      " 17  PopulationCount             6185 non-null   int64  \n",
      " 18  GeoLocation                 6185 non-null   object \n",
      " 19  CategoryID                  6185 non-null   object \n",
      " 20  MeasureId                   6185 non-null   object \n",
      " 21  CityFIPS                    6185 non-null   int64  \n",
      " 22  TractFIPS                   6073 non-null   float64\n",
      " 23  Short_Question_Text         6185 non-null   object \n",
      "dtypes: float64(4), int64(3), object(17)\n",
      "memory usage: 1.1+ MB\n"
     ]
    }
   ],
   "source": [
    "df.info()"
   ]
  },
  {
   "cell_type": "markdown",
   "metadata": {},
   "source": [
    "* In order to get a better feel for what your data is supposed to represent, it is good to get an overview of what unique values constitute each column \n",
    "* Use the unique() method to achieve this \n",
    "* Low_Confidence_Limit and High_Confidence_Limit refers to the critical points calculated for the row \n",
    "* Columns 1,2,3,4,18,21, & 22 all concern location "
   ]
  },
  {
   "cell_type": "code",
   "execution_count": 412,
   "metadata": {},
   "outputs": [
    {
     "data": {
      "text/plain": [
       "array([2017, 2016])"
      ]
     },
     "execution_count": 412,
     "metadata": {},
     "output_type": "execute_result"
    }
   ],
   "source": [
    "df.Year.unique()"
   ]
  },
  {
   "cell_type": "code",
   "execution_count": 413,
   "metadata": {},
   "outputs": [
    {
     "data": {
      "text/plain": [
       "array(['VA', 'DC'], dtype=object)"
      ]
     },
     "execution_count": 413,
     "metadata": {},
     "output_type": "execute_result"
    }
   ],
   "source": [
    "df.StateAbbr.unique()"
   ]
  },
  {
   "cell_type": "code",
   "execution_count": 414,
   "metadata": {},
   "outputs": [
    {
     "data": {
      "text/plain": [
       "array(['Alexandria', 'Washington'], dtype=object)"
      ]
     },
     "execution_count": 414,
     "metadata": {},
     "output_type": "execute_result"
    }
   ],
   "source": [
    "df.CityName.unique()"
   ]
  },
  {
   "cell_type": "code",
   "execution_count": 415,
   "metadata": {},
   "outputs": [
    {
     "data": {
      "text/plain": [
       "array(['BRFSS'], dtype=object)"
      ]
     },
     "execution_count": 415,
     "metadata": {},
     "output_type": "execute_result"
    }
   ],
   "source": [
    "df.DataSource.unique()"
   ]
  },
  {
   "cell_type": "code",
   "execution_count": 416,
   "metadata": {},
   "outputs": [
    {
     "data": {
      "text/plain": [
       "array(['Prevention', 'Health Outcomes', 'Unhealthy Behaviors'],\n",
       "      dtype=object)"
      ]
     },
     "execution_count": 416,
     "metadata": {},
     "output_type": "execute_result"
    }
   ],
   "source": [
    "df.Category.unique()"
   ]
  },
  {
   "cell_type": "code",
   "execution_count": 417,
   "metadata": {},
   "outputs": [
    {
     "data": {
      "text/plain": [
       "array(['Taking medicine for high blood pressure control among adults aged >=18 Years with high blood pressure',\n",
       "       'Current asthma among adults aged >=18 Years',\n",
       "       'Diagnosed diabetes among adults aged >=18 Years',\n",
       "       'Papanicolaou smear use among adult women aged 21–65 Years',\n",
       "       'Sleeping less than 7 hours among adults aged >=18 Years',\n",
       "       'Chronic obstructive pulmonary disease among adults aged >=18 Years',\n",
       "       'Cholesterol screening among adults aged >=18 Years',\n",
       "       'Physical health not good for >=14 days among adults aged >=18 Years',\n",
       "       'Mammography use among women aged 50–74 Years',\n",
       "       'No leisure-time physical activity among adults aged >=18 Years',\n",
       "       'Stroke among adults aged >=18 Years',\n",
       "       'Current lack of health insurance among adults aged 18–64 Years',\n",
       "       'All teeth lost among adults aged >=65 Years',\n",
       "       'High blood pressure among adults aged >=18 Years',\n",
       "       'Older adult men aged >=65 Years who are up to date on a core set of clinical preventive services: Flu shot past Year, PPV shot ever, Colorectal cancer screening',\n",
       "       'Visits to doctor for routine checkup within the past Year among adults aged >=18 Years',\n",
       "       'Visits to dentist or dental clinic among adults aged >=18 Years',\n",
       "       'Obesity among adults aged >=18 Years',\n",
       "       'High cholesterol among adults aged >=18 Years who have been screened in the past 5 Years',\n",
       "       'Binge drinking among adults aged >=18 Years',\n",
       "       'Coronary heart disease among adults aged >=18 Years',\n",
       "       'Chronic kidney disease among adults aged >=18 Years',\n",
       "       'Current smoking among adults aged >=18 Years',\n",
       "       'Arthritis among adults aged >=18 Years',\n",
       "       'Mental health not good for >=14 days among adults aged >=18 Years',\n",
       "       'Older adult women aged >=65 Years who are up to date on a core set of clinical preventive services: Flu shot past Year, PPV shot ever, Colorectal cancer screening, and Mammogram past 2 Years',\n",
       "       'Fecal occult blood test, sigmoidoscopy, or colonoscopy among adults aged 50–75 Years',\n",
       "       'Cancer (excluding skin cancer) among adults aged >=18 Years'],\n",
       "      dtype=object)"
      ]
     },
     "execution_count": 417,
     "metadata": {},
     "output_type": "execute_result"
    }
   ],
   "source": [
    "df.Measure.unique()"
   ]
  },
  {
   "cell_type": "code",
   "execution_count": 418,
   "metadata": {},
   "outputs": [
    {
     "data": {
      "text/plain": [
       "array(['Taking BP Medication', 'Current Asthma', 'Diabetes',\n",
       "       'Pap Smear Test', 'Sleep <7 hours', 'COPD',\n",
       "       'Cholesterol Screening', 'Physical Health', 'Mammography',\n",
       "       'Physical Inactivity', 'Stroke', 'Health Insurance', 'Teeth Loss',\n",
       "       'High Blood Pressure', 'Core preventive services for older men',\n",
       "       'Annual Checkup', 'Dental Visit', 'Obesity', 'High Cholesterol',\n",
       "       'Binge Drinking', 'Coronary Heart Disease',\n",
       "       'Chronic Kidney Disease', 'Current Smoking', 'Arthritis',\n",
       "       'Mental Health', 'Core preventive services for older women',\n",
       "       'Colorectal Cancer Screening', 'Cancer (except skin)'],\n",
       "      dtype=object)"
      ]
     },
     "execution_count": 418,
     "metadata": {},
     "output_type": "execute_result"
    }
   ],
   "source": [
    "df.Short_Question_Text.unique()"
   ]
  },
  {
   "cell_type": "code",
   "execution_count": 419,
   "metadata": {},
   "outputs": [
    {
     "data": {
      "text/plain": [
       "array(['%'], dtype=object)"
      ]
     },
     "execution_count": 419,
     "metadata": {},
     "output_type": "execute_result"
    }
   ],
   "source": [
    "df.Data_Value_Unit.unique()"
   ]
  },
  {
   "cell_type": "code",
   "execution_count": 420,
   "metadata": {},
   "outputs": [
    {
     "data": {
      "text/plain": [
       "array(['CrdPrv', 'AgeAdjPrv'], dtype=object)"
      ]
     },
     "execution_count": 420,
     "metadata": {},
     "output_type": "execute_result"
    }
   ],
   "source": [
    "df.DataValueTypeID.unique()"
   ]
  },
  {
   "cell_type": "code",
   "execution_count": 421,
   "metadata": {},
   "outputs": [
    {
     "data": {
      "text/plain": [
       "array(['Crude prevalence', 'Age-adjusted prevalence'], dtype=object)"
      ]
     },
     "execution_count": 421,
     "metadata": {},
     "output_type": "execute_result"
    }
   ],
   "source": [
    "df.Data_Value_Type.unique()"
   ]
  },
  {
   "cell_type": "markdown",
   "metadata": {},
   "source": [
    "Note that this column shows that crude prevalence and age-adjusted prevalence were measured for chronic illnesses. Crude prevalence is based on the number of new cases in a popualtion. Age-adjusted prevalence is calculated "
   ]
  },
  {
   "cell_type": "code",
   "execution_count": 422,
   "metadata": {},
   "outputs": [
    {
     "data": {
      "text/plain": [
       "array([nan, 'Estimates suppressed for population less than 50',\n",
       "       'Data not available for this state from the 2016 BRFSS'],\n",
       "      dtype=object)"
      ]
     },
     "execution_count": 422,
     "metadata": {},
     "output_type": "execute_result"
    }
   ],
   "source": [
    "# 25 non-null value for Data_Value_Type\n",
    "df.Data_Value_Footnote.unique()"
   ]
  },
  {
   "cell_type": "code",
   "execution_count": 423,
   "metadata": {},
   "outputs": [
    {
     "data": {
      "text/plain": [
       "array([nan, '*', '~'], dtype=object)"
      ]
     },
     "execution_count": 423,
     "metadata": {},
     "output_type": "execute_result"
    }
   ],
   "source": [
    "#25 non-null value for this column as well\n",
    "df.Data_Value_Footnote_Symbol.unique()"
   ]
  },
  {
   "cell_type": "code",
   "execution_count": 424,
   "metadata": {},
   "outputs": [
    {
     "data": {
      "text/plain": [
       "array([5101000, 1150000])"
      ]
     },
     "execution_count": 424,
     "metadata": {},
     "output_type": "execute_result"
    }
   ],
   "source": [
    "df.CityFIPS.unique()"
   ]
  },
  {
   "cell_type": "code",
   "execution_count": 425,
   "metadata": {},
   "outputs": [
    {
     "data": {
      "text/plain": [
       "array([5.15102007e+10,            nan, 5.15102013e+10, 5.15102008e+10,\n",
       "       5.15102003e+10, 5.15102006e+10, 5.15102004e+10, 5.15102001e+10,\n",
       "       5.15102004e+10, 5.15102003e+10, 5.15102012e+10, 5.15102018e+10,\n",
       "       5.15102010e+10, 5.15102019e+10, 5.15102001e+10, 5.15102012e+10,\n",
       "       5.15102011e+10, 5.15102020e+10, 5.15102002e+10, 5.15102005e+10,\n",
       "       5.15102001e+10, 5.15102020e+10, 5.15102009e+10, 5.15102018e+10,\n",
       "       5.15102001e+10, 5.15102007e+10, 5.15102014e+10, 5.15102001e+10,\n",
       "       5.15102002e+10, 5.15102016e+10, 5.15102007e+10, 5.15102003e+10,\n",
       "       5.15102004e+10, 5.15102004e+10, 5.15102015e+10, 5.15102008e+10,\n",
       "       5.15102012e+10, 5.15102001e+10, 5.15102004e+10, 1.10010110e+10,\n",
       "       1.10010108e+10, 1.10010007e+10, 1.10010080e+10, 1.10010004e+10,\n",
       "       1.10010028e+10, 1.10010095e+10, 1.10010050e+10, 1.10010036e+10,\n",
       "       1.10010095e+10, 1.10010084e+10, 1.10010078e+10, 1.10010073e+10,\n",
       "       1.10010098e+10, 1.10010049e+10, 1.10010040e+10, 1.10010079e+10,\n",
       "       1.10010075e+10, 1.10010037e+10, 1.10010082e+10, 1.10010068e+10,\n",
       "       1.10010069e+10, 1.10010076e+10, 1.10010080e+10, 1.10010099e+10,\n",
       "       1.10010099e+10, 1.10010076e+10, 1.10010075e+10, 1.10010048e+10,\n",
       "       1.10010074e+10, 1.10010088e+10, 1.10010092e+10, 1.10010025e+10,\n",
       "       1.10010014e+10, 1.10010025e+10, 1.10010032e+10, 1.10010009e+10,\n",
       "       1.10010020e+10, 1.10010081e+10, 1.10010074e+10, 1.10010093e+10,\n",
       "       1.10010096e+10, 1.10010047e+10, 1.10010109e+10, 1.10010092e+10,\n",
       "       1.10010084e+10, 1.10010027e+10, 1.10010093e+10, 1.10010005e+10,\n",
       "       1.10010001e+10, 1.10010091e+10, 1.10010092e+10, 1.10010098e+10,\n",
       "       1.10010016e+10, 1.10010027e+10, 1.10010070e+10, 1.10010014e+10,\n",
       "       1.10010066e+10, 1.10010074e+10, 1.10010079e+10, 1.10010042e+10,\n",
       "       1.10010098e+10, 1.10010077e+10, 1.10010018e+10, 1.10010090e+10,\n",
       "       1.10010021e+10, 1.10010011e+10, 1.10010087e+10, 1.10010023e+10,\n",
       "       1.10010002e+10, 1.10010041e+10, 1.10010010e+10, 1.10010077e+10,\n",
       "       1.10010056e+10, 1.10010101e+10, 1.10010095e+10, 1.10010102e+10,\n",
       "       1.10010095e+10, 1.10010068e+10, 1.10010098e+10, 1.10010031e+10,\n",
       "       1.10010099e+10, 1.10010065e+10, 1.10010064e+10, 1.10010106e+10,\n",
       "       1.10010099e+10, 1.10010073e+10, 1.10010095e+10, 1.10010005e+10,\n",
       "       1.10010053e+10, 1.10010083e+10, 1.10010028e+10, 1.10010020e+10,\n",
       "       1.10010035e+10, 1.10010019e+10, 1.10010077e+10, 1.10010007e+10,\n",
       "       1.10010029e+10, 1.10010099e+10, 1.10010083e+10, 1.10010067e+10,\n",
       "       1.10010078e+10, 1.10010015e+10, 1.10010006e+10, 1.10010074e+10,\n",
       "       1.10010019e+10, 1.10010043e+10, 1.10010062e+10, 1.10010044e+10,\n",
       "       1.10010087e+10, 1.10010071e+10, 1.10010095e+10, 1.10010111e+10,\n",
       "       1.10010098e+10, 1.10010039e+10, 1.10010038e+10, 1.10010034e+10,\n",
       "       1.10010074e+10, 1.10010098e+10, 1.10010088e+10, 1.10010059e+10,\n",
       "       1.10010078e+10, 1.10010026e+10, 1.10010077e+10, 1.10010099e+10,\n",
       "       1.10010088e+10, 1.10010105e+10, 1.10010089e+10, 1.10010010e+10,\n",
       "       1.10010030e+10, 1.10010008e+10, 1.10010047e+10, 1.10010008e+10,\n",
       "       1.10010022e+10, 1.10010078e+10, 1.10010078e+10, 1.10010033e+10,\n",
       "       1.10010017e+10, 1.10010099e+10, 1.10010076e+10, 1.10010094e+10,\n",
       "       1.10010052e+10, 1.10010013e+10, 1.10010104e+10, 1.10010002e+10,\n",
       "       1.10010050e+10, 1.10010076e+10, 1.10010097e+10, 1.10010018e+10,\n",
       "       1.10010024e+10, 1.10010098e+10, 1.10010072e+10, 1.10010048e+10,\n",
       "       1.10010049e+10, 1.10010042e+10, 1.10010096e+10, 1.10010058e+10,\n",
       "       1.10010095e+10, 1.10010040e+10, 1.10010009e+10, 1.10010096e+10,\n",
       "       1.10010096e+10, 1.10010046e+10, 1.10010055e+10, 1.10010074e+10,\n",
       "       1.10010068e+10, 1.10010013e+10, 1.10010078e+10, 1.10010022e+10,\n",
       "       1.10010107e+10, 1.10010089e+10, 1.10010021e+10, 1.10010103e+10,\n",
       "       1.10010074e+10, 1.10010012e+10, 1.10010003e+10, 1.10010033e+10,\n",
       "       1.10010023e+10, 1.10010075e+10])"
      ]
     },
     "execution_count": 425,
     "metadata": {},
     "output_type": "execute_result"
    }
   ],
   "source": [
    "# note that there are 6073 non-null values in this column instead of 6185\n",
    "df.TractFIPS.unique()"
   ]
  },
  {
   "cell_type": "markdown",
   "metadata": {},
   "source": [
    "### Data Filtering and Extraction"
   ]
  },
  {
   "cell_type": "code",
   "execution_count": 426,
   "metadata": {},
   "outputs": [
    {
     "data": {
      "text/html": [
       "<div>\n",
       "<style scoped>\n",
       "    .dataframe tbody tr th:only-of-type {\n",
       "        vertical-align: middle;\n",
       "    }\n",
       "\n",
       "    .dataframe tbody tr th {\n",
       "        vertical-align: top;\n",
       "    }\n",
       "\n",
       "    .dataframe thead th {\n",
       "        text-align: right;\n",
       "    }\n",
       "</style>\n",
       "<table border=\"1\" class=\"dataframe\">\n",
       "  <thead>\n",
       "    <tr style=\"text-align: right;\">\n",
       "      <th></th>\n",
       "      <th>Year</th>\n",
       "      <th>StateAbbr</th>\n",
       "      <th>StateDesc</th>\n",
       "      <th>CityName</th>\n",
       "      <th>GeographicLevel</th>\n",
       "      <th>DataSource</th>\n",
       "      <th>Category</th>\n",
       "      <th>UniqueID</th>\n",
       "      <th>Measure</th>\n",
       "      <th>Data_Value_Unit</th>\n",
       "      <th>...</th>\n",
       "      <th>High_Confidence_Limit</th>\n",
       "      <th>Data_Value_Footnote_Symbol</th>\n",
       "      <th>Data_Value_Footnote</th>\n",
       "      <th>PopulationCount</th>\n",
       "      <th>GeoLocation</th>\n",
       "      <th>CategoryID</th>\n",
       "      <th>MeasureId</th>\n",
       "      <th>CityFIPS</th>\n",
       "      <th>TractFIPS</th>\n",
       "      <th>Short_Question_Text</th>\n",
       "    </tr>\n",
       "  </thead>\n",
       "  <tbody>\n",
       "    <tr>\n",
       "      <th>0</th>\n",
       "      <td>2017</td>\n",
       "      <td>VA</td>\n",
       "      <td>Virginia</td>\n",
       "      <td>Alexandria</td>\n",
       "      <td>Census Tract</td>\n",
       "      <td>BRFSS</td>\n",
       "      <td>Prevention</td>\n",
       "      <td>5101000-51510200702</td>\n",
       "      <td>Taking medicine for high blood pressure contro...</td>\n",
       "      <td>%</td>\n",
       "      <td>...</td>\n",
       "      <td>65.9</td>\n",
       "      <td>NaN</td>\n",
       "      <td>NaN</td>\n",
       "      <td>3910</td>\n",
       "      <td>(38.8012387817, -77.0668298261)</td>\n",
       "      <td>PREVENT</td>\n",
       "      <td>BPMED</td>\n",
       "      <td>5101000</td>\n",
       "      <td>5.151020e+10</td>\n",
       "      <td>Taking BP Medication</td>\n",
       "    </tr>\n",
       "    <tr>\n",
       "      <th>1</th>\n",
       "      <td>2017</td>\n",
       "      <td>VA</td>\n",
       "      <td>Virginia</td>\n",
       "      <td>Alexandria</td>\n",
       "      <td>City</td>\n",
       "      <td>BRFSS</td>\n",
       "      <td>Health Outcomes</td>\n",
       "      <td>5101000</td>\n",
       "      <td>Current asthma among adults aged &gt;=18 Years</td>\n",
       "      <td>%</td>\n",
       "      <td>...</td>\n",
       "      <td>8.9</td>\n",
       "      <td>NaN</td>\n",
       "      <td>NaN</td>\n",
       "      <td>139966</td>\n",
       "      <td>(38.8187351557, -77.0867762661)</td>\n",
       "      <td>HLTHOUT</td>\n",
       "      <td>CASTHMA</td>\n",
       "      <td>5101000</td>\n",
       "      <td>NaN</td>\n",
       "      <td>Current Asthma</td>\n",
       "    </tr>\n",
       "    <tr>\n",
       "      <th>2</th>\n",
       "      <td>2017</td>\n",
       "      <td>VA</td>\n",
       "      <td>Virginia</td>\n",
       "      <td>Alexandria</td>\n",
       "      <td>Census Tract</td>\n",
       "      <td>BRFSS</td>\n",
       "      <td>Health Outcomes</td>\n",
       "      <td>5101000-51510201300</td>\n",
       "      <td>Diagnosed diabetes among adults aged &gt;=18 Years</td>\n",
       "      <td>%</td>\n",
       "      <td>...</td>\n",
       "      <td>6.2</td>\n",
       "      <td>NaN</td>\n",
       "      <td>NaN</td>\n",
       "      <td>3105</td>\n",
       "      <td>(38.8235664971, -77.0544032467)</td>\n",
       "      <td>HLTHOUT</td>\n",
       "      <td>DIABETES</td>\n",
       "      <td>5101000</td>\n",
       "      <td>5.151020e+10</td>\n",
       "      <td>Diabetes</td>\n",
       "    </tr>\n",
       "    <tr>\n",
       "      <th>3</th>\n",
       "      <td>2016</td>\n",
       "      <td>VA</td>\n",
       "      <td>Virginia</td>\n",
       "      <td>Alexandria</td>\n",
       "      <td>City</td>\n",
       "      <td>BRFSS</td>\n",
       "      <td>Prevention</td>\n",
       "      <td>5101000</td>\n",
       "      <td>Papanicolaou smear use among adult women aged ...</td>\n",
       "      <td>%</td>\n",
       "      <td>...</td>\n",
       "      <td>87.0</td>\n",
       "      <td>NaN</td>\n",
       "      <td>NaN</td>\n",
       "      <td>139966</td>\n",
       "      <td>(38.8187351557, -77.0867762661)</td>\n",
       "      <td>PREVENT</td>\n",
       "      <td>PAPTEST</td>\n",
       "      <td>5101000</td>\n",
       "      <td>NaN</td>\n",
       "      <td>Pap Smear Test</td>\n",
       "    </tr>\n",
       "    <tr>\n",
       "      <th>4</th>\n",
       "      <td>2016</td>\n",
       "      <td>VA</td>\n",
       "      <td>Virginia</td>\n",
       "      <td>Alexandria</td>\n",
       "      <td>Census Tract</td>\n",
       "      <td>BRFSS</td>\n",
       "      <td>Unhealthy Behaviors</td>\n",
       "      <td>5101000-51510200801</td>\n",
       "      <td>Sleeping less than 7 hours among adults aged &gt;...</td>\n",
       "      <td>%</td>\n",
       "      <td>...</td>\n",
       "      <td>28.8</td>\n",
       "      <td>NaN</td>\n",
       "      <td>NaN</td>\n",
       "      <td>2553</td>\n",
       "      <td>(38.8165993378, -77.0808788508)</td>\n",
       "      <td>UNHBEH</td>\n",
       "      <td>SLEEP</td>\n",
       "      <td>5101000</td>\n",
       "      <td>5.151020e+10</td>\n",
       "      <td>Sleep &lt;7 hours</td>\n",
       "    </tr>\n",
       "    <tr>\n",
       "      <th>...</th>\n",
       "      <td>...</td>\n",
       "      <td>...</td>\n",
       "      <td>...</td>\n",
       "      <td>...</td>\n",
       "      <td>...</td>\n",
       "      <td>...</td>\n",
       "      <td>...</td>\n",
       "      <td>...</td>\n",
       "      <td>...</td>\n",
       "      <td>...</td>\n",
       "      <td>...</td>\n",
       "      <td>...</td>\n",
       "      <td>...</td>\n",
       "      <td>...</td>\n",
       "      <td>...</td>\n",
       "      <td>...</td>\n",
       "      <td>...</td>\n",
       "      <td>...</td>\n",
       "      <td>...</td>\n",
       "      <td>...</td>\n",
       "      <td>...</td>\n",
       "    </tr>\n",
       "    <tr>\n",
       "      <th>6180</th>\n",
       "      <td>2017</td>\n",
       "      <td>DC</td>\n",
       "      <td>District of C</td>\n",
       "      <td>Washington</td>\n",
       "      <td>Census Tract</td>\n",
       "      <td>BRFSS</td>\n",
       "      <td>Prevention</td>\n",
       "      <td>1150000-11001005800</td>\n",
       "      <td>Cholesterol screening among adults aged &gt;=18 Y...</td>\n",
       "      <td>%</td>\n",
       "      <td>...</td>\n",
       "      <td>82.2</td>\n",
       "      <td>NaN</td>\n",
       "      <td>NaN</td>\n",
       "      <td>2830</td>\n",
       "      <td>(38.8978732774, -77.0250007021)</td>\n",
       "      <td>PREVENT</td>\n",
       "      <td>CHOLSCREEN</td>\n",
       "      <td>1150000</td>\n",
       "      <td>1.100101e+10</td>\n",
       "      <td>Cholesterol Screening</td>\n",
       "    </tr>\n",
       "    <tr>\n",
       "      <th>6181</th>\n",
       "      <td>2017</td>\n",
       "      <td>DC</td>\n",
       "      <td>District of C</td>\n",
       "      <td>Washington</td>\n",
       "      <td>Census Tract</td>\n",
       "      <td>BRFSS</td>\n",
       "      <td>Unhealthy Behaviors</td>\n",
       "      <td>1150000-11001004802</td>\n",
       "      <td>No leisure-time physical activity among adults...</td>\n",
       "      <td>%</td>\n",
       "      <td>...</td>\n",
       "      <td>24.9</td>\n",
       "      <td>NaN</td>\n",
       "      <td>NaN</td>\n",
       "      <td>2922</td>\n",
       "      <td>(38.9062165422, -77.0188944239)</td>\n",
       "      <td>UNHBEH</td>\n",
       "      <td>LPA</td>\n",
       "      <td>1150000</td>\n",
       "      <td>1.100100e+10</td>\n",
       "      <td>Physical Inactivity</td>\n",
       "    </tr>\n",
       "    <tr>\n",
       "      <th>6182</th>\n",
       "      <td>2016</td>\n",
       "      <td>DC</td>\n",
       "      <td>District of C</td>\n",
       "      <td>Washington</td>\n",
       "      <td>Census Tract</td>\n",
       "      <td>BRFSS</td>\n",
       "      <td>Unhealthy Behaviors</td>\n",
       "      <td>1150000-11001003100</td>\n",
       "      <td>Sleeping less than 7 hours among adults aged &gt;...</td>\n",
       "      <td>%</td>\n",
       "      <td>...</td>\n",
       "      <td>37.4</td>\n",
       "      <td>NaN</td>\n",
       "      <td>NaN</td>\n",
       "      <td>2885</td>\n",
       "      <td>(38.9305897622, -77.0254222296)</td>\n",
       "      <td>UNHBEH</td>\n",
       "      <td>SLEEP</td>\n",
       "      <td>1150000</td>\n",
       "      <td>1.100100e+10</td>\n",
       "      <td>Sleep &lt;7 hours</td>\n",
       "    </tr>\n",
       "    <tr>\n",
       "      <th>6183</th>\n",
       "      <td>2017</td>\n",
       "      <td>DC</td>\n",
       "      <td>District of C</td>\n",
       "      <td>Washington</td>\n",
       "      <td>Census Tract</td>\n",
       "      <td>BRFSS</td>\n",
       "      <td>Prevention</td>\n",
       "      <td>1150000-11001006801</td>\n",
       "      <td>Taking medicine for high blood pressure contro...</td>\n",
       "      <td>%</td>\n",
       "      <td>...</td>\n",
       "      <td>73.7</td>\n",
       "      <td>NaN</td>\n",
       "      <td>NaN</td>\n",
       "      <td>1949</td>\n",
       "      <td>(38.8877299699, -76.9801035038)</td>\n",
       "      <td>PREVENT</td>\n",
       "      <td>BPMED</td>\n",
       "      <td>1150000</td>\n",
       "      <td>1.100101e+10</td>\n",
       "      <td>Taking BP Medication</td>\n",
       "    </tr>\n",
       "    <tr>\n",
       "      <th>6184</th>\n",
       "      <td>2017</td>\n",
       "      <td>DC</td>\n",
       "      <td>District of C</td>\n",
       "      <td>Washington</td>\n",
       "      <td>Census Tract</td>\n",
       "      <td>BRFSS</td>\n",
       "      <td>Unhealthy Behaviors</td>\n",
       "      <td>1150000-11001005500</td>\n",
       "      <td>Current smoking among adults aged &gt;=18 Years</td>\n",
       "      <td>%</td>\n",
       "      <td>...</td>\n",
       "      <td>12.9</td>\n",
       "      <td>NaN</td>\n",
       "      <td>NaN</td>\n",
       "      <td>6671</td>\n",
       "      <td>(38.9076255443, -77.0492482515)</td>\n",
       "      <td>UNHBEH</td>\n",
       "      <td>CSMOKING</td>\n",
       "      <td>1150000</td>\n",
       "      <td>1.100101e+10</td>\n",
       "      <td>Current Smoking</td>\n",
       "    </tr>\n",
       "  </tbody>\n",
       "</table>\n",
       "<p>6185 rows × 24 columns</p>\n",
       "</div>"
      ],
      "text/plain": [
       "      Year StateAbbr      StateDesc    CityName GeographicLevel DataSource  \\\n",
       "0     2017        VA       Virginia  Alexandria    Census Tract      BRFSS   \n",
       "1     2017        VA       Virginia  Alexandria            City      BRFSS   \n",
       "2     2017        VA       Virginia  Alexandria    Census Tract      BRFSS   \n",
       "3     2016        VA       Virginia  Alexandria            City      BRFSS   \n",
       "4     2016        VA       Virginia  Alexandria    Census Tract      BRFSS   \n",
       "...    ...       ...            ...         ...             ...        ...   \n",
       "6180  2017        DC  District of C  Washington    Census Tract      BRFSS   \n",
       "6181  2017        DC  District of C  Washington    Census Tract      BRFSS   \n",
       "6182  2016        DC  District of C  Washington    Census Tract      BRFSS   \n",
       "6183  2017        DC  District of C  Washington    Census Tract      BRFSS   \n",
       "6184  2017        DC  District of C  Washington    Census Tract      BRFSS   \n",
       "\n",
       "                 Category             UniqueID  \\\n",
       "0              Prevention  5101000-51510200702   \n",
       "1         Health Outcomes              5101000   \n",
       "2         Health Outcomes  5101000-51510201300   \n",
       "3              Prevention              5101000   \n",
       "4     Unhealthy Behaviors  5101000-51510200801   \n",
       "...                   ...                  ...   \n",
       "6180           Prevention  1150000-11001005800   \n",
       "6181  Unhealthy Behaviors  1150000-11001004802   \n",
       "6182  Unhealthy Behaviors  1150000-11001003100   \n",
       "6183           Prevention  1150000-11001006801   \n",
       "6184  Unhealthy Behaviors  1150000-11001005500   \n",
       "\n",
       "                                                Measure Data_Value_Unit  ...  \\\n",
       "0     Taking medicine for high blood pressure contro...               %  ...   \n",
       "1           Current asthma among adults aged >=18 Years               %  ...   \n",
       "2       Diagnosed diabetes among adults aged >=18 Years               %  ...   \n",
       "3     Papanicolaou smear use among adult women aged ...               %  ...   \n",
       "4     Sleeping less than 7 hours among adults aged >...               %  ...   \n",
       "...                                                 ...             ...  ...   \n",
       "6180  Cholesterol screening among adults aged >=18 Y...               %  ...   \n",
       "6181  No leisure-time physical activity among adults...               %  ...   \n",
       "6182  Sleeping less than 7 hours among adults aged >...               %  ...   \n",
       "6183  Taking medicine for high blood pressure contro...               %  ...   \n",
       "6184       Current smoking among adults aged >=18 Years               %  ...   \n",
       "\n",
       "     High_Confidence_Limit Data_Value_Footnote_Symbol  Data_Value_Footnote  \\\n",
       "0                     65.9                        NaN                  NaN   \n",
       "1                      8.9                        NaN                  NaN   \n",
       "2                      6.2                        NaN                  NaN   \n",
       "3                     87.0                        NaN                  NaN   \n",
       "4                     28.8                        NaN                  NaN   \n",
       "...                    ...                        ...                  ...   \n",
       "6180                  82.2                        NaN                  NaN   \n",
       "6181                  24.9                        NaN                  NaN   \n",
       "6182                  37.4                        NaN                  NaN   \n",
       "6183                  73.7                        NaN                  NaN   \n",
       "6184                  12.9                        NaN                  NaN   \n",
       "\n",
       "      PopulationCount                      GeoLocation CategoryID   MeasureId  \\\n",
       "0                3910  (38.8012387817, -77.0668298261)    PREVENT       BPMED   \n",
       "1              139966  (38.8187351557, -77.0867762661)    HLTHOUT     CASTHMA   \n",
       "2                3105  (38.8235664971, -77.0544032467)    HLTHOUT    DIABETES   \n",
       "3              139966  (38.8187351557, -77.0867762661)    PREVENT     PAPTEST   \n",
       "4                2553  (38.8165993378, -77.0808788508)     UNHBEH       SLEEP   \n",
       "...               ...                              ...        ...         ...   \n",
       "6180             2830  (38.8978732774, -77.0250007021)    PREVENT  CHOLSCREEN   \n",
       "6181             2922  (38.9062165422, -77.0188944239)     UNHBEH         LPA   \n",
       "6182             2885  (38.9305897622, -77.0254222296)     UNHBEH       SLEEP   \n",
       "6183             1949  (38.8877299699, -76.9801035038)    PREVENT       BPMED   \n",
       "6184             6671  (38.9076255443, -77.0492482515)     UNHBEH    CSMOKING   \n",
       "\n",
       "      CityFIPS     TractFIPS    Short_Question_Text  \n",
       "0      5101000  5.151020e+10   Taking BP Medication  \n",
       "1      5101000           NaN         Current Asthma  \n",
       "2      5101000  5.151020e+10               Diabetes  \n",
       "3      5101000           NaN         Pap Smear Test  \n",
       "4      5101000  5.151020e+10         Sleep <7 hours  \n",
       "...        ...           ...                    ...  \n",
       "6180   1150000  1.100101e+10  Cholesterol Screening  \n",
       "6181   1150000  1.100100e+10    Physical Inactivity  \n",
       "6182   1150000  1.100100e+10         Sleep <7 hours  \n",
       "6183   1150000  1.100101e+10   Taking BP Medication  \n",
       "6184   1150000  1.100101e+10        Current Smoking  \n",
       "\n",
       "[6185 rows x 24 columns]"
      ]
     },
     "execution_count": 426,
     "metadata": {},
     "output_type": "execute_result"
    }
   ],
   "source": [
    "# replace cells with null values especially for TrackNIPS column\n",
    "pd.read_csv('https://raw.githubusercontent.com/jfaruque/PUBH1142/main/DC_Alexandria_Chronic_Illness_Data.csv', na_values=[999, 'Nil', 'Missing'])"
   ]
  },
  {
   "cell_type": "markdown",
   "metadata": {},
   "source": [
    "The code below is going to get rid of the Data_Value_Footnote and Data_Value_Footnote_Symbol columns because there is a high amount of null values present in these columns. "
   ]
  },
  {
   "cell_type": "code",
   "execution_count": 427,
   "metadata": {},
   "outputs": [],
   "source": [
    "footnote = df['Data_Value_Footnote']\n",
    "# Delete the Data_Value_Footnote column from df\n",
    "df.drop(columns=['Data_Value_Footnote'], inplace=True)"
   ]
  },
  {
   "cell_type": "code",
   "execution_count": 428,
   "metadata": {},
   "outputs": [],
   "source": [
    "footnote_sym = df['Data_Value_Footnote_Symbol']\n",
    "# Delete the Data_Value_Footnote_Symbol column from df\n",
    "df.drop(columns=['Data_Value_Footnote_Symbol'], inplace=True)"
   ]
  },
  {
   "cell_type": "markdown",
   "metadata": {},
   "source": [
    "I also noticed that many of the columns presented the same data in a different form. This includes: \n",
    "* State Abbr vs State Desc\n",
    "* Data Value Type ID vs Data Value Type\n",
    "* Category vs Category ID\n",
    "* Measure vs Measure ID\n",
    "* I've opted to keep the columns with abbreviated data within their cells. Ideally, I would store a key of sorts that detail what each abbreaviation refers to. "
   ]
  },
  {
   "cell_type": "code",
   "execution_count": 429,
   "metadata": {},
   "outputs": [],
   "source": [
    "# delete state description column \n",
    "df.drop(columns=['StateDesc'], inplace=True)"
   ]
  },
  {
   "cell_type": "code",
   "execution_count": 430,
   "metadata": {},
   "outputs": [],
   "source": [
    "# delete the data value type column \n",
    "df.drop(columns=['Data_Value_Type'], inplace=True)"
   ]
  },
  {
   "cell_type": "code",
   "execution_count": 431,
   "metadata": {},
   "outputs": [],
   "source": [
    "# delete the category column \n",
    "df.drop(columns=['Category'], inplace=True)"
   ]
  },
  {
   "cell_type": "code",
   "execution_count": 432,
   "metadata": {},
   "outputs": [],
   "source": [
    "# delete the Measure column\n",
    "df.drop(columns=['Measure'], inplace=True)\n"
   ]
  },
  {
   "cell_type": "markdown",
   "metadata": {},
   "source": [
    "I also got rid of the Data Value Unit and the Data Source columns because all of the cells under these columns had the same value respectively\n",
    "* Data Source for every row was BRFSS\n",
    "* Data Value Unit was all %"
   ]
  },
  {
   "cell_type": "code",
   "execution_count": 433,
   "metadata": {},
   "outputs": [],
   "source": [
    "# delete the DataSource column \n",
    "df.drop(columns=['DataSource'], inplace=True)"
   ]
  },
  {
   "cell_type": "code",
   "execution_count": 434,
   "metadata": {},
   "outputs": [],
   "source": [
    "# delete the Data_Value_Unit column \n",
    "df.drop(columns='Data_Value_Unit', inplace=True)"
   ]
  },
  {
   "cell_type": "markdown",
   "metadata": {},
   "source": [
    "## Data Plotting/Visualization with Seaborn"
   ]
  },
  {
   "cell_type": "code",
   "execution_count": 436,
   "metadata": {},
   "outputs": [
    {
     "data": {
      "text/plain": [
       "Index(['Year', 'StateAbbr', 'CityName', 'GeographicLevel', 'UniqueID',\n",
       "       'DataValueTypeID', 'Data_Value', 'Low_Confidence_Limit',\n",
       "       'High_Confidence_Limit', 'PopulationCount', 'GeoLocation', 'CategoryID',\n",
       "       'MeasureId', 'CityFIPS', 'TractFIPS', 'Short_Question_Text'],\n",
       "      dtype='object')"
      ]
     },
     "execution_count": 436,
     "metadata": {},
     "output_type": "execute_result"
    }
   ],
   "source": [
    "#listing columns again for a refresher \n",
    "df.columns"
   ]
  },
  {
   "cell_type": "code",
   "execution_count": 440,
   "metadata": {},
   "outputs": [
    {
     "data": {
      "image/png": "[encoded data removed]",
      "text/plain": [
       "<Figure size 640x480 with 1 Axes>"
      ]
     },
     "metadata": {},
     "output_type": "display_data"
    }
   ],
   "source": [
    "# libraries have been imported in first code cell\n",
    "# generating a scatterplot representing the relationship between Data_Value and PopulationCount\n",
    "# these are two continuous variables\n",
    "# for this dataset, a scatterplot would not be the most insightful\n",
    "# I set the hue as DataValueTypeID because the data values are wither crude rates or age-adjusted\n",
    "\n",
    "seaborn.scatterplot (\n",
    "    data=df,\n",
    "    x='Data_Value',\n",
    "    y='PopulationCount',\n",
    "    hue='DataValueTypeID'\n",
    "    ).set(\n",
    "        title='Data_Value vs PopulationCount',\n",
    "        xlabel='Data Value',\n",
    "        ylabel='PopulationCount'\n",
    ");"
   ]
  },
  {
   "cell_type": "markdown",
   "metadata": {},
   "source": [
    "### Distribution Plots"
   ]
  },
  {
   "cell_type": "code",
   "execution_count": 447,
   "metadata": {},
   "outputs": [
    {
     "name": "stderr",
     "output_type": "stream",
     "text": [
      "/Users/jessicafaruque/miniconda3/envs/datascience/lib/python3.12/site-packages/seaborn/_oldcore.py:1119: FutureWarning: use_inf_as_na option is deprecated and will be removed in a future version. Convert inf values to NaN before operating instead.\n",
      "  with pd.option_context('mode.use_inf_as_na', True):\n"
     ]
    },
    {
     "data": {
      "image/png": "[encoded data removed]",
      "text/plain": [
       "<Figure size 500x500 with 1 Axes>"
      ]
     },
     "metadata": {},
     "output_type": "display_data"
    }
   ],
   "source": [
    "# histogram illustrating MeasureID frequqncy\n",
    "# For reference MeasureID refers to the 7 measures listed in the Introduction\n",
    "seaborn.displot(\n",
    "    df,\n",
    "    x='MeasureId',\n",
    "    bins=range(0, 7000, 7000)\n",
    "    ).set(\n",
    "        title='MeasureID Frequency',\n",
    "        xlabel='MeasureID',\n",
    "        ylabel='Frequency'\n",
    ");"
   ]
  }
 ],
 "metadata": {
  "kernelspec": {
   "display_name": "datascience",
   "language": "python",
   "name": "python3"
  },
  "language_info": {
   "codemirror_mode": {
    "name": "ipython",
    "version": 3
   },
   "file_extension": ".py",
   "mimetype": "text/x-python",
   "name": "python",
   "nbconvert_exporter": "python",
   "pygments_lexer": "ipython3",
   "version": "3.12.1"
  }
 },
 "nbformat": 4,
 "nbformat_minor": 2
}
